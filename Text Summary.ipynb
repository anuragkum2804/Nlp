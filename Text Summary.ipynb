{
 "cells": [
  {
   "cell_type": "code",
   "execution_count": 1,
   "id": "3691317c",
   "metadata": {},
   "outputs": [],
   "source": [
    "import pandas as pd\n",
    "import numpy as np\n",
    "import nltk"
   ]
  },
  {
   "cell_type": "code",
   "execution_count": 2,
   "id": "993fb75e",
   "metadata": {},
   "outputs": [
    {
     "name": "stderr",
     "output_type": "stream",
     "text": [
      "[nltk_data] Downloading package punkt to\n",
      "[nltk_data]     C:\\Users\\User\\AppData\\Roaming\\nltk_data...\n",
      "[nltk_data]   Package punkt is already up-to-date!\n"
     ]
    },
    {
     "data": {
      "text/plain": [
       "True"
      ]
     },
     "execution_count": 2,
     "metadata": {},
     "output_type": "execute_result"
    }
   ],
   "source": [
    "nltk.download('punkt')"
   ]
  },
  {
   "cell_type": "code",
   "execution_count": 3,
   "id": "6244713a",
   "metadata": {},
   "outputs": [],
   "source": [
    "import re\n",
    "from nltk.corpus import stopwords"
   ]
  },
  {
   "cell_type": "code",
   "execution_count": 4,
   "id": "3d4cbd84",
   "metadata": {},
   "outputs": [
    {
     "data": {
      "text/html": [
       "<div>\n",
       "<style scoped>\n",
       "    .dataframe tbody tr th:only-of-type {\n",
       "        vertical-align: middle;\n",
       "    }\n",
       "\n",
       "    .dataframe tbody tr th {\n",
       "        vertical-align: top;\n",
       "    }\n",
       "\n",
       "    .dataframe thead th {\n",
       "        text-align: right;\n",
       "    }\n",
       "</style>\n",
       "<table border=\"1\" class=\"dataframe\">\n",
       "  <thead>\n",
       "    <tr style=\"text-align: right;\">\n",
       "      <th></th>\n",
       "      <th>article_id</th>\n",
       "      <th>article_text</th>\n",
       "    </tr>\n",
       "  </thead>\n",
       "  <tbody>\n",
       "    <tr>\n",
       "      <th>0</th>\n",
       "      <td>1</td>\n",
       "      <td>The CIA managed to get most of its Afghan info...</td>\n",
       "    </tr>\n",
       "    <tr>\n",
       "      <th>1</th>\n",
       "      <td>2</td>\n",
       "      <td>Consider the amount of plastic you put into th...</td>\n",
       "    </tr>\n",
       "  </tbody>\n",
       "</table>\n",
       "</div>"
      ],
      "text/plain": [
       "   article_id                                       article_text\n",
       "0           1  The CIA managed to get most of its Afghan info...\n",
       "1           2  Consider the amount of plastic you put into th..."
      ]
     },
     "execution_count": 4,
     "metadata": {},
     "output_type": "execute_result"
    }
   ],
   "source": [
    "df = pd.read_csv(r\"E:\\Users\\User\\Files\\Articles.csv\")\n",
    "df.head()"
   ]
  },
  {
   "cell_type": "code",
   "execution_count": 5,
   "id": "1376bd55",
   "metadata": {},
   "outputs": [],
   "source": [
    "from nltk.tokenize import sent_tokenize\n",
    "sentences = []\n",
    "for s in df['article_text']:\n",
    "    sentences.append(sent_tokenize(s))\n",
    "\n",
    "sentences = [y for x in sentences for y in x]"
   ]
  },
  {
   "cell_type": "code",
   "execution_count": 10,
   "id": "1c11d510",
   "metadata": {},
   "outputs": [
    {
     "name": "stdout",
     "output_type": "stream",
     "text": [
      "Collecting glove-python-binary\n",
      "  Downloading glove_python_binary-0.2.0-cp38-cp38-win_amd64.whl (244 kB)\n",
      "Requirement already satisfied: scipy in e:\\users\\user\\anaconda3\\lib\\site-packages (from glove-python-binary) (1.6.2)\n",
      "Requirement already satisfied: numpy in e:\\users\\user\\anaconda3\\lib\\site-packages (from glove-python-binary) (1.19.5)\n",
      "Installing collected packages: glove-python-binary\n",
      "Successfully installed glove-python-binary-0.2.0\n"
     ]
    }
   ],
   "source": [
    "!pip install glove-python-binary"
   ]
  },
  {
   "cell_type": "code",
   "execution_count": 12,
   "id": "8b5f9df3",
   "metadata": {},
   "outputs": [
    {
     "name": "stdout",
     "output_type": "stream",
     "text": [
      "Collecting mittens\n",
      "  Downloading mittens-0.2-py3-none-any.whl (15 kB)\n",
      "Requirement already satisfied: numpy in e:\\users\\user\\anaconda3\\lib\\site-packages (from mittens) (1.19.5)\n",
      "Installing collected packages: mittens\n",
      "Successfully installed mittens-0.2\n",
      "Note: you may need to restart the kernel to use updated packages.\n"
     ]
    }
   ],
   "source": [
    "pip install -U mittens"
   ]
  },
  {
   "cell_type": "code",
   "execution_count": 7,
   "id": "95bdfdc1",
   "metadata": {},
   "outputs": [],
   "source": [
    "from mittens import GloVe"
   ]
  },
  {
   "cell_type": "code",
   "execution_count": 16,
   "id": "9b83e279",
   "metadata": {},
   "outputs": [
    {
     "name": "stderr",
     "output_type": "stream",
     "text": [
      "<ipython-input-16-1f27de05fd8d>:10: FutureWarning: The default value of regex will change from True to False in a future version.\n",
      "  clean_sentences = pd.Series(sentences).str.replace(\"[^a-zA-Z]\", \" \")\n"
     ]
    }
   ],
   "source": [
    "word_embeddings = {}\n",
    "f = open(r\"E:\\Users\\User\\Files\\glove.6B(1)\\glove.6B.100d.txt\", encoding='utf-8')\n",
    "for line in f:\n",
    "    values = line.split()\n",
    "    word = values[0]\n",
    "    coefs = np.asarray(values[1:], dtype='float32')\n",
    "    word_embeddings[word] = coefs\n",
    "f.close()\n",
    "\n",
    "clean_sentences = pd.Series(sentences).str.replace(\"[^a-zA-Z]\", \" \")\n",
    "clean_sentences = [s.lower() for s in clean_sentences]\n",
    "stop_words = stopwords.words('english')\n",
    "def remove_stopwords(sen):\n",
    "    sen_new = \" \".join([i for i in sen if i not in stop_words])\n",
    "    return sen_new\n",
    "clean_sentences = [remove_stopwords(r.split()) for r in clean_sentences]"
   ]
  },
  {
   "cell_type": "code",
   "execution_count": 23,
   "id": "b443f9ac",
   "metadata": {},
   "outputs": [],
   "source": [
    "sentence_vectors = []\n",
    "for i in clean_sentences:\n",
    "    if len(i) != 0:\n",
    "        v = sum([word_embeddings.get(w, np.zeros((100,))) for w in i.split()])/(len(i.split())+0.001)\n",
    "    else:\n",
    "        v = np.zeros((100,))\n",
    "    sentence_vectors.append(v)"
   ]
  },
  {
   "cell_type": "code",
   "execution_count": 24,
   "id": "c1190bdf",
   "metadata": {},
   "outputs": [
    {
     "name": "stdout",
     "output_type": "stream",
     "text": [
      "77\n"
     ]
    }
   ],
   "source": [
    "sim_mat = np.zeros([len(sentences), len(sentences)])\n",
    "from sklearn.metrics.pairwise import cosine_similarity\n",
    "print(len(sentence_vectors))\n",
    "for i in range(len(sentences)):\n",
    "    for j in range(len(sentences)):\n",
    "        if i != j:\n",
    "            sim_mat[i][j] = cosine_similarity(sentence_vectors[i].reshape(1,100), sentence_vectors[j].reshape(1,100))[0,0]"
   ]
  },
  {
   "cell_type": "code",
   "execution_count": 25,
   "id": "12dd8801",
   "metadata": {},
   "outputs": [],
   "source": [
    "import networkx as nx\n",
    "\n",
    "nx_graph = nx.from_numpy_array(sim_mat)\n",
    "scores = nx.pagerank(nx_graph)"
   ]
  },
  {
   "cell_type": "code",
   "execution_count": 26,
   "id": "03a69b66",
   "metadata": {},
   "outputs": [
    {
     "name": "stdout",
     "output_type": "stream",
     "text": [
      "ARTICLE:\n",
      "The CIA managed to get most of its Afghan informants and spies out of the country ahead of the U.S. pullout this week, according to two sources familiar with the agency�s operations, even as the State Department admitted that the majority of Afghans who worked for the United States over the past two decades�interpreters and others�were left behind.��We got everybody, more or less, out. It�s thousands of people,� including family members of the spies, a Congressional official told Foreign Policy, requesting anonymity to discuss sensitive matters. �They are the ones the Taliban could have identified.� \n",
      "Another source familiar with the CIA�s evacuation efforts said the agency�s Special Activities Center, which is staffed in part by elite paramilitary forces and runs covert operations, took part in the evacuation. The operations took place across the country, the source said�not just around the Afghan capital of Kabul, where many thousands of people desperate to flee the country crowded the airport perimeter.\n",
      "�My understanding is they got all of their people out,� said the source, who also requested anonymity to discuss sensitive matters.\n",
      "A CIA spokesperson declined to provide details, saying only that the agency had �worked closely with other U.S. government agencies� to help evacuate a range of people, including �thousands of American citizens, local embassy staff, and vulnerable Afghans.�\n",
      "The Taliban�s military sweep across Afghanistan precipitated a hasty U.S. departure from the country last month that included chaotic scenes at the airport in Kabul and an Islamic State suicide attack that killed 13 U.S. service members and more than 100 Afghans.\n",
      "On Wednesday, a State Department official told reporters that the �majority� of Afghans who applied for special immigrant visas, or SIVs�entry permits for those who assisted the United States in the war�remained behind in Afghanistan. Many fear for their lives, as the Taliban has targeted and killed those it believes helped the United States. \n",
      "The CIA�s relative success in evacuating Afghan spies raises questions about the messy withdrawal from Afghanistan, including: What did the CIA do right and why weren�t other U.S. agencies able to achieve similar results?\n",
      "It also highlights an aspect of the CIA�s work that has drawn both praise and criticism: its capacity to move people around the globe without drawing much attention.\n",
      "�Moving people in and out of hostile places is something they certainly have experience [in] and excel at doing,� said Andy Keiser, who served as a senior advisor to then-House Intelligence Committee Chair Mike Rogers from 2013 to 2015 and is now a principal at the lobbying firm Navigators Global.\n",
      "�So something like this in my mind makes perfect sense�why [the CIA] would be able to execute better on this than some of their peers in the government.�\n",
      "One of the CIA�s most famous extractions came after an Iranian mob stormed the American embassy in Tehran in 1979 and took dozens of staff hostage. The agency successfully rescued six U.S. consular officials who had been hiding in the homes of Canadian diplomats by devising an elaborate cover story. The Americans posed as members of a Canadian film crew�a story memorialized in the Hollywood blockbuster Argo.\n",
      "Other extractions have been less celebrated. The agency�s post-9/11 torture program relied on �renditions��essentially, secret abductions�to transfer suspected terrorists to international black sites to face the agency�s so-called �enhanced interrogation techniques.�\n",
      "�The CIA operates every day in countries across the world, including in denied areas, where they have to engage in covert operations to include exfiltrations,� said the source familiar with the CIA�s evacuation efforts. �It�s something they�ve been doing for a very long time, and is not something new or unique to Afghanistan.�\n",
      "The CIA has also conducted thousands of clandestine missions, including targeted killings, in Afghanistan since the war began in 2001. \n",
      "Another team within the CIA, the National Resettlement Operations Center, is tasked with relocating agency assets and defectors to the United States. But it�s unclear if the group, known for resettling high-profile defectors from countries such as Russia, was involved with resettling the former Afghan spies. \n",
      "It�s also unclear whether any of the CIA�s Afghan allies will be relocated to the United States, and if so, whether they will continue to gather intelligence�especially now that the CIA�s ability to collect information on the ground in Afghanistan is limited.\n",
      "The congressional official said the small number of Afghan informants left behind had engaged only occasionally in intelligence gathering for the United States and should therefore be harder for the Taliban to identify. The source declined to provide more details on specific numbers or how the other spies moved out of the country. \n",
      "In July, Foreign Policy reported that many of the CIA�s Afghan spies faced challenges in getting special immigration visas, which require proof of a working relationship with the United States�something those secretly working with the CIA were less likely to have. The agency had made evacuating its allies a �huge priority,� a U.S. official told Foreign Policy at the time.\n",
      "On Wednesday, Politico reported that a secret CIA base outside Kabul was used to help evacuate U.S. citizens and vulnerable Afghans as the threat of violence outside the airport increased. U.S. forces have since destroyed parts of the highly secured compound, known as Eagle Base, which also included an area where the CIA once tortured terrorism suspects in the aftermath of the 9/11 attacks.\n",
      "Some Afghans who worked with the CIA may have escaped through unofficial rescue operations as well. One of them, dubbed the �Pineapple Express� and run by U.S. military veterans, former intelligence officers, and others with connections in Afghanistan, reportedly helped save more than 600 Afghans.\n",
      "President Joe Biden has faced criticism for his handling of the withdrawal, which devolved into chaos after the Taliban quickly took control of Kabul last month. More than 100,000 people were evacuated from the country over the course of just weeks.\n",
      "\n",
      "\n",
      "\n",
      "SUMMARY:\n",
      "�Wishcycling,� or tossing every type of plastic into the recycling bin and hoping for the best, can make separating out useful material more difficult and actually reduce the amount of plastic that is recycled, says Jeff Donlevy, the general manager at a California recycling facility who has been in the industry for more than 25 years.\n",
      "\n",
      "\n",
      "ARTICLE:\n",
      "Consider the amount of plastic you put into the trash or recycling on a typical day. There�s the lid to your coffee cup, and perhaps a bag from a newspaper. There�s the wrapper from a granola bar, a yogurt container, a salad clamshell, and the plentiful packaging from inside a box that arrived in the mail. Many of these plastic items are useful and convenient, but they also come with a high environmental cost. In 2016, the U.S. generated more plastic trash than any other country�46.3 million tons of it, according to a 2020 study published in Science Advances. That�s 287 pounds per person in a single year. By the time these disposable products are in your hands, they�ve already taken a toll on the planet: Plastics are mostly made from fossil fuels, in an energy-intensive process that emits greenhouse gases and creates often hazardous chemicals.\n",
      "And then there�s what happens when you throw them away.\n",
      "If you�re like most people, you probably assume that when you toss plastic into the recycling bin it will be processed and turned into something new. The truth is that only a fraction of plastic is actually recycled. According to the most recent data estimates available from the Environmental Protection Agency, just 8.7 percent of the plastic that was discarded in the U.S. in 2018 was recycled.\n",
      "The popular perception that plastic is easily and widely recycled has been shaped by decades of carefully calculated messaging designed and paid for by the petroleum and gas companies that make most of that plastic in the first place, and the beverage companies that depend on plastic to bottle their products.\n",
      "            \n",
      "�Recycling is sold as a means of not worrying about the problem,� says Judith Enck, a former regional administrator at the EPA, now a visiting professor at Bennington College in Vermont and president of Beyond Plastics, a group focused on ending plastics pollution. The companies paying for the ads that frame recycling as an easy solution to a potentially devastating environmental problem know that recycling cannot keep up with the flood of new plastic, Enck says.\n",
      "One of four things happens to plastic after you�re done with it. If it�s not recycled�and it�s usually not�it is landfilled, incinerated, or littered. The EPA estimates that in 2018, about 16 percent of U.S. plastic waste was incinerated. A relatively small amount was littered. Most of the rest ended up in landfills��including a lot of the plastic people dutifully put into recycling bins.\n",
      "Over decades or even centuries, much of that littered and landfilled plastic breaks down into tiny particles known as microplastics, which contaminate our food, the air, and water. They also accumulate in our bodies, potentially increasing our risk of chronic inflammation and other ills.\n",
      "Experts say that while cutting back on plastic use is a worthy individual goal (see �How to Quit Plastic�), the only way to stem the rising tide of plastic is for companies to make less of it and for recycling programs to be retooled so that more of what we throw away is actually turned into something useful.\n",
      "There�s little to suggest this will happen anytime soon. Plastic production is expected to more than double by 2050, and even if it doesn�t, the plastic trash that people continue to throw away will still have to go somewhere.\n",
      "        \n",
      "    \n",
      "The Truth About Plastic Recycling\n",
      "Dedicated bins for plastic waste are a common sight, and plastic recycling is widely promoted. So why does only a fraction of the plastic we toss actually get recycled?\n",
      "One reason is that most plastic isn�t easily recyclable, says Jan Dell, a chemical engineer who heads up The Last Beach Cleanup, a nonprofit focused on plastic pollution. Plastic products are often made of mixtures of many chemicals, which can stymie recycling processes by making it harder to isolate a base material that can be recovered and reused.\n",
      "Perhaps the most important reason is that there is very little financial incentive to recycle: It�s far less expensive to manufacture most types of plastic from scratch than it is to recycle old plastic into something new. The least recyclable plastic products include many labeled with the numbers 3 through 7 in the recycling triangle, as well as the majority of plastic bags and packaging film.\n",
      "Certain types of plastic, however, are economically viable and relatively easy to recycle, and even in high demand. These include PET plastic bottles, like the ones soda and water are sold in, and HDPE milk jugs (respectively labeled with a number 1 or 2 inside the recycling triangle). But just 29 percent of the plastic used in these jugs and bottles was recycled in 2018.\n",
      "According to guidelines from the Federal Trade Commission, at least 60 percent of Americans should have access to a program that recycles a particular item before it can be labeled as recyclable without some language noting that access to recycling may be limited. But these guidelines are rarely followed, according to a 2020 report from Greenpeace. (The FTC did not respond to a request for comment.)\n",
      "Only numbers 1 and 2 bottles and jugs are recycled consistently; labeling other items as �check locally� inside a recycling triangle is just greenwashing, Dell says�a way for a company to imply that something will be recycled when it will almost certainly end up in a landfill.\n",
      "Well-intentioned consumers are also partly responsible for the low plastic recycling rate. �Wishcycling,� or tossing every type of plastic into the recycling bin and hoping for the best, can make separating out useful material more difficult and actually reduce the amount of plastic that is recycled, says Jeff Donlevy, the general manager at a California recycling facility who has been in the industry for more than 25 years. This can lead to recyclable plastic ending up in landfills and incinerators.\n",
      "In theory, sorting plastics and depositing only readily recyclable types into the recycling bin would help fix this problem. (According to a May 2021 nationally representative survey of 2,079 U.S. adults by CR (PDF), 65 percent of Americans say they typically separate plastics for recycling.) But U.S. recycling trends have worked against this type of careful sorting. Many municipalities have switched to single-stream recycling, in which aluminum cans, glass bottles, plastic jugs, and paper and cardboard all get dumped into the same bin. That can make things easier for the consumer, but it also makes sorting out the recyclable plastic more difficult, so more ultimately ends up discarded rather than recycled, says Brandon Wright, vice president of communications for the National Waste & Recycling Association.\n",
      "On the bright side, most discarded plastic bottles are collected and recycled in states that require people to pay a bottle deposit. But only 10 states currently have such laws.\n",
      "\n",
      "\n",
      "\n",
      "SUMMARY:\n",
      "Experts say that while cutting back on plastic use is a worthy individual goal (see �How to Quit Plastic�), the only way to stem the rising tide of plastic is for companies to make less of it and for recycling programs to be retooled so that more of what we throw away is actually turned into something useful.\n",
      "\n",
      "\n",
      "ARTICLE:\n"
     ]
    },
    {
     "ename": "KeyError",
     "evalue": "2",
     "output_type": "error",
     "traceback": [
      "\u001b[1;31m---------------------------------------------------------------------------\u001b[0m",
      "\u001b[1;31mValueError\u001b[0m                                Traceback (most recent call last)",
      "\u001b[1;32mE:\\Users\\User\\anaconda3\\lib\\site-packages\\pandas\\core\\indexes\\range.py\u001b[0m in \u001b[0;36mget_loc\u001b[1;34m(self, key, method, tolerance)\u001b[0m\n\u001b[0;32m    350\u001b[0m                 \u001b[1;32mtry\u001b[0m\u001b[1;33m:\u001b[0m\u001b[1;33m\u001b[0m\u001b[1;33m\u001b[0m\u001b[0m\n\u001b[1;32m--> 351\u001b[1;33m                     \u001b[1;32mreturn\u001b[0m \u001b[0mself\u001b[0m\u001b[1;33m.\u001b[0m\u001b[0m_range\u001b[0m\u001b[1;33m.\u001b[0m\u001b[0mindex\u001b[0m\u001b[1;33m(\u001b[0m\u001b[0mnew_key\u001b[0m\u001b[1;33m)\u001b[0m\u001b[1;33m\u001b[0m\u001b[1;33m\u001b[0m\u001b[0m\n\u001b[0m\u001b[0;32m    352\u001b[0m                 \u001b[1;32mexcept\u001b[0m \u001b[0mValueError\u001b[0m \u001b[1;32mas\u001b[0m \u001b[0merr\u001b[0m\u001b[1;33m:\u001b[0m\u001b[1;33m\u001b[0m\u001b[1;33m\u001b[0m\u001b[0m\n",
      "\u001b[1;31mValueError\u001b[0m: 2 is not in range",
      "\nThe above exception was the direct cause of the following exception:\n",
      "\u001b[1;31mKeyError\u001b[0m                                  Traceback (most recent call last)",
      "\u001b[1;32m<ipython-input-26-5046c4fbdbbb>\u001b[0m in \u001b[0;36m<module>\u001b[1;34m\u001b[0m\n\u001b[0;32m      2\u001b[0m \u001b[1;32mfor\u001b[0m \u001b[0mi\u001b[0m \u001b[1;32min\u001b[0m \u001b[0mrange\u001b[0m\u001b[1;33m(\u001b[0m\u001b[1;36m5\u001b[0m\u001b[1;33m)\u001b[0m\u001b[1;33m:\u001b[0m\u001b[1;33m\u001b[0m\u001b[1;33m\u001b[0m\u001b[0m\n\u001b[0;32m      3\u001b[0m   \u001b[0mprint\u001b[0m\u001b[1;33m(\u001b[0m\u001b[1;34m\"ARTICLE:\"\u001b[0m\u001b[1;33m)\u001b[0m\u001b[1;33m\u001b[0m\u001b[1;33m\u001b[0m\u001b[0m\n\u001b[1;32m----> 4\u001b[1;33m   \u001b[0mprint\u001b[0m\u001b[1;33m(\u001b[0m\u001b[0mdf\u001b[0m\u001b[1;33m[\u001b[0m\u001b[1;34m'article_text'\u001b[0m\u001b[1;33m]\u001b[0m\u001b[1;33m[\u001b[0m\u001b[0mi\u001b[0m\u001b[1;33m]\u001b[0m\u001b[1;33m)\u001b[0m\u001b[1;33m\u001b[0m\u001b[1;33m\u001b[0m\u001b[0m\n\u001b[0m\u001b[0;32m      5\u001b[0m   \u001b[0mprint\u001b[0m\u001b[1;33m(\u001b[0m\u001b[1;34m'\\n'\u001b[0m\u001b[1;33m)\u001b[0m\u001b[1;33m\u001b[0m\u001b[1;33m\u001b[0m\u001b[0m\n\u001b[0;32m      6\u001b[0m   \u001b[0mprint\u001b[0m\u001b[1;33m(\u001b[0m\u001b[1;34m\"SUMMARY:\"\u001b[0m\u001b[1;33m)\u001b[0m\u001b[1;33m\u001b[0m\u001b[1;33m\u001b[0m\u001b[0m\n",
      "\u001b[1;32mE:\\Users\\User\\anaconda3\\lib\\site-packages\\pandas\\core\\series.py\u001b[0m in \u001b[0;36m__getitem__\u001b[1;34m(self, key)\u001b[0m\n\u001b[0;32m    851\u001b[0m \u001b[1;33m\u001b[0m\u001b[0m\n\u001b[0;32m    852\u001b[0m         \u001b[1;32melif\u001b[0m \u001b[0mkey_is_scalar\u001b[0m\u001b[1;33m:\u001b[0m\u001b[1;33m\u001b[0m\u001b[1;33m\u001b[0m\u001b[0m\n\u001b[1;32m--> 853\u001b[1;33m             \u001b[1;32mreturn\u001b[0m \u001b[0mself\u001b[0m\u001b[1;33m.\u001b[0m\u001b[0m_get_value\u001b[0m\u001b[1;33m(\u001b[0m\u001b[0mkey\u001b[0m\u001b[1;33m)\u001b[0m\u001b[1;33m\u001b[0m\u001b[1;33m\u001b[0m\u001b[0m\n\u001b[0m\u001b[0;32m    854\u001b[0m \u001b[1;33m\u001b[0m\u001b[0m\n\u001b[0;32m    855\u001b[0m         \u001b[1;32mif\u001b[0m \u001b[0mis_hashable\u001b[0m\u001b[1;33m(\u001b[0m\u001b[0mkey\u001b[0m\u001b[1;33m)\u001b[0m\u001b[1;33m:\u001b[0m\u001b[1;33m\u001b[0m\u001b[1;33m\u001b[0m\u001b[0m\n",
      "\u001b[1;32mE:\\Users\\User\\anaconda3\\lib\\site-packages\\pandas\\core\\series.py\u001b[0m in \u001b[0;36m_get_value\u001b[1;34m(self, label, takeable)\u001b[0m\n\u001b[0;32m    959\u001b[0m \u001b[1;33m\u001b[0m\u001b[0m\n\u001b[0;32m    960\u001b[0m         \u001b[1;31m# Similar to Index.get_value, but we do not fall back to positional\u001b[0m\u001b[1;33m\u001b[0m\u001b[1;33m\u001b[0m\u001b[1;33m\u001b[0m\u001b[0m\n\u001b[1;32m--> 961\u001b[1;33m         \u001b[0mloc\u001b[0m \u001b[1;33m=\u001b[0m \u001b[0mself\u001b[0m\u001b[1;33m.\u001b[0m\u001b[0mindex\u001b[0m\u001b[1;33m.\u001b[0m\u001b[0mget_loc\u001b[0m\u001b[1;33m(\u001b[0m\u001b[0mlabel\u001b[0m\u001b[1;33m)\u001b[0m\u001b[1;33m\u001b[0m\u001b[1;33m\u001b[0m\u001b[0m\n\u001b[0m\u001b[0;32m    962\u001b[0m         \u001b[1;32mreturn\u001b[0m \u001b[0mself\u001b[0m\u001b[1;33m.\u001b[0m\u001b[0mindex\u001b[0m\u001b[1;33m.\u001b[0m\u001b[0m_get_values_for_loc\u001b[0m\u001b[1;33m(\u001b[0m\u001b[0mself\u001b[0m\u001b[1;33m,\u001b[0m \u001b[0mloc\u001b[0m\u001b[1;33m,\u001b[0m \u001b[0mlabel\u001b[0m\u001b[1;33m)\u001b[0m\u001b[1;33m\u001b[0m\u001b[1;33m\u001b[0m\u001b[0m\n\u001b[0;32m    963\u001b[0m \u001b[1;33m\u001b[0m\u001b[0m\n",
      "\u001b[1;32mE:\\Users\\User\\anaconda3\\lib\\site-packages\\pandas\\core\\indexes\\range.py\u001b[0m in \u001b[0;36mget_loc\u001b[1;34m(self, key, method, tolerance)\u001b[0m\n\u001b[0;32m    351\u001b[0m                     \u001b[1;32mreturn\u001b[0m \u001b[0mself\u001b[0m\u001b[1;33m.\u001b[0m\u001b[0m_range\u001b[0m\u001b[1;33m.\u001b[0m\u001b[0mindex\u001b[0m\u001b[1;33m(\u001b[0m\u001b[0mnew_key\u001b[0m\u001b[1;33m)\u001b[0m\u001b[1;33m\u001b[0m\u001b[1;33m\u001b[0m\u001b[0m\n\u001b[0;32m    352\u001b[0m                 \u001b[1;32mexcept\u001b[0m \u001b[0mValueError\u001b[0m \u001b[1;32mas\u001b[0m \u001b[0merr\u001b[0m\u001b[1;33m:\u001b[0m\u001b[1;33m\u001b[0m\u001b[1;33m\u001b[0m\u001b[0m\n\u001b[1;32m--> 353\u001b[1;33m                     \u001b[1;32mraise\u001b[0m \u001b[0mKeyError\u001b[0m\u001b[1;33m(\u001b[0m\u001b[0mkey\u001b[0m\u001b[1;33m)\u001b[0m \u001b[1;32mfrom\u001b[0m \u001b[0merr\u001b[0m\u001b[1;33m\u001b[0m\u001b[1;33m\u001b[0m\u001b[0m\n\u001b[0m\u001b[0;32m    354\u001b[0m             \u001b[1;32mraise\u001b[0m \u001b[0mKeyError\u001b[0m\u001b[1;33m(\u001b[0m\u001b[0mkey\u001b[0m\u001b[1;33m)\u001b[0m\u001b[1;33m\u001b[0m\u001b[1;33m\u001b[0m\u001b[0m\n\u001b[0;32m    355\u001b[0m         \u001b[1;32mreturn\u001b[0m \u001b[0msuper\u001b[0m\u001b[1;33m(\u001b[0m\u001b[1;33m)\u001b[0m\u001b[1;33m.\u001b[0m\u001b[0mget_loc\u001b[0m\u001b[1;33m(\u001b[0m\u001b[0mkey\u001b[0m\u001b[1;33m,\u001b[0m \u001b[0mmethod\u001b[0m\u001b[1;33m=\u001b[0m\u001b[0mmethod\u001b[0m\u001b[1;33m,\u001b[0m \u001b[0mtolerance\u001b[0m\u001b[1;33m=\u001b[0m\u001b[0mtolerance\u001b[0m\u001b[1;33m)\u001b[0m\u001b[1;33m\u001b[0m\u001b[1;33m\u001b[0m\u001b[0m\n",
      "\u001b[1;31mKeyError\u001b[0m: 2"
     ]
    }
   ],
   "source": [
    "ranked_sentences = sorted(((scores[i],s) for i,s in enumerate(sentences)), reverse=True)\n",
    "for i in range(2):\n",
    "  print(\"ARTICLE:\")\n",
    "  print(df['article_text'][i])\n",
    "  print('\\n')\n",
    "  print(\"SUMMARY:\")\n",
    "  print(ranked_sentences[i][1])\n",
    "  print('\\n')"
   ]
  },
  {
   "cell_type": "code",
   "execution_count": 27,
   "id": "5d108d62",
   "metadata": {},
   "outputs": [
    {
     "name": "stdout",
     "output_type": "stream",
     "text": [
      "[(0.014469310191078976, '�Wishcycling,� or tossing every type of plastic into the recycling bin and hoping for the best, can make separating out useful material more difficult and actually reduce the amount of plastic that is recycled, says Jeff Donlevy, the general manager at a California recycling facility who has been in the industry for more than 25 years.'), (0.014438720789902841, 'Experts say that while cutting back on plastic use is a worthy individual goal (see �How to Quit Plastic�), the only way to stem the rising tide of plastic is for companies to make less of it and for recycling programs to be retooled so that more of what we throw away is actually turned into something useful.'), (0.014303377757670642, 'Many of these plastic items are useful and convenient, but they also come with a high environmental cost.'), (0.014215348161767479, 'Plastic production is expected to more than double by 2050, and even if it doesn�t, the plastic trash that people continue to throw away will still have to go somewhere.'), (0.014191186774239663, 'If you�re like most people, you probably assume that when you toss plastic into the recycling bin it will be processed and turned into something new.'), (0.014172102823585319, 'The CIA managed to get most of its Afghan informants and spies out of the country ahead of the U.S. pullout this week, according to two sources familiar with the agency�s operations, even as the State Department admitted that the majority of Afghans who worked for the United States over the past two decades�interpreters and others�were left behind.��We got everybody, more or less, out.'), (0.014148661859937184, 'That can make things easier for the consumer, but it also makes sorting out the recyclable plastic more difficult, so more ultimately ends up discarded rather than recycled, says Brandon Wright, vice president of communications for the National Waste & Recycling Association.'), (0.014120456272996683, 'The companies paying for the ads that frame recycling as an easy solution to a potentially devastating environmental problem know that recycling cannot keep up with the flood of new plastic, Enck says.'), (0.014080897659709397, 'One reason is that most plastic isn�t easily recyclable, says Jan Dell, a chemical engineer who heads up The Last Beach Cleanup, a nonprofit focused on plastic pollution.'), (0.014052109064648086, 'According to guidelines from the Federal Trade Commission, at least 60 percent of Americans should have access to a program that recycles a particular item before it can be labeled as recyclable without some language noting that access to recycling may be limited.'), (0.01403873220150654, 'The popular perception that plastic is easily and widely recycled has been shaped by decades of carefully calculated messaging designed and paid for by the petroleum and gas companies that make most of that plastic in the first place, and the beverage companies that depend on plastic to bottle their products.'), (0.0140022912891808, 'Perhaps the most important reason is that there is very little financial incentive to recycle: It�s far less expensive to manufacture most types of plastic from scratch than it is to recycle old plastic into something new.'), (0.013958824385302361, 'Only numbers 1 and 2 bottles and jugs are recycled consistently; labeling other items as �check locally� inside a recycling triangle is just greenwashing, Dell says�a way for a company to imply that something will be recycled when it will almost certainly end up in a landfill.'), (0.013881957944003305, 'The congressional official said the small number of Afghan informants left behind had engaged only occasionally in intelligence gathering for the United States and should therefore be harder for the Taliban to identify.'), (0.013877322317267168, 'Well-intentioned consumers are also partly responsible for the low plastic recycling rate.'), (0.013822498960605304, 'In July, Foreign Policy reported that many of the CIA�s Afghan spies faced challenges in getting special immigration visas, which require proof of a working relationship with the United States�something those secretly working with the CIA were less likely to have.'), (0.013798830407992832, 'The agency�s post-9/11 torture program relied on �renditions��essentially, secret abductions�to transfer suspected terrorists to international black sites to face the agency�s so-called �enhanced interrogation techniques.�\\n�The CIA operates every day in countries across the world, including in denied areas, where they have to engage in covert operations to include exfiltrations,� said the source familiar with the CIA�s evacuation efforts.'), (0.013793416266839768, 'Consider the amount of plastic you put into the trash or recycling on a typical day.'), (0.013788727618404014, 'It also highlights an aspect of the CIA�s work that has drawn both praise and criticism: its capacity to move people around the globe without drawing much attention.'), (0.013785409937299362, 'Most of the rest ended up in landfills��including a lot of the plastic people dutifully put into recycling bins.'), (0.01375340694560665, 'The source declined to provide more details on specific numbers or how the other spies moved out of the country.'), (0.013750567926245487, '�It�s something they�ve been doing for a very long time, and is not something new or unique to Afghanistan.�\\nThe CIA has also conducted thousands of clandestine missions, including targeted killings, in Afghanistan since the war began in 2001.'), (0.01372892257767572, 'One of four things happens to plastic after you�re done with it.'), (0.01372583091677996, 'According to the most recent data estimates available from the Environmental Protection Agency, just 8.7 percent of the plastic that was discarded in the U.S. in 2018 was recycled.'), (0.013706439014967544, '�So something like this in my mind makes perfect sense�why [the CIA] would be able to execute better on this than some of their peers in the government.�\\nOne of the CIA�s most famous extractions came after an Iranian mob stormed the American embassy in Tehran in 1979 and took dozens of staff hostage.'), (0.013693629278665504, 'Certain types of plastic, however, are economically viable and relatively easy to recycle, and even in high demand.'), (0.013668981481670435, 'A CIA spokesperson declined to provide details, saying only that the agency had �worked closely with other U.S. government agencies� to help evacuate a range of people, including �thousands of American citizens, local embassy staff, and vulnerable Afghans.�\\nThe Taliban�s military sweep across Afghanistan precipitated a hasty U.S. departure from the country last month that included chaotic scenes at the airport in Kabul and an Islamic State suicide attack that killed 13 U.S. service members and more than 100 Afghans.'), (0.013600807142624325, 'The least recyclable plastic products include many labeled with the numbers 3 through 7 in the recycling triangle, as well as the majority of plastic bags and packaging film.'), (0.013585922978813433, 'The CIA�s relative success in evacuating Afghan spies raises questions about the messy withdrawal from Afghanistan, including: What did the CIA do right and why weren�t other U.S. agencies able to achieve similar results?'), (0.013557797538046649, 'It�s also unclear whether any of the CIA�s Afghan allies will be relocated to the United States, and if so, whether they will continue to gather intelligence�especially now that the CIA�s ability to collect information on the ground in Afghanistan is limited.'), (0.013545663918114318, '�They are the ones the Taliban could have identified.� \\nAnother source familiar with the CIA�s evacuation efforts said the agency�s Special Activities Center, which is staffed in part by elite paramilitary forces and runs covert operations, took part in the evacuation.'), (0.013514124860577592, 'Over decades or even centuries, much of that littered and landfilled plastic breaks down into tiny particles known as microplastics, which contaminate our food, the air, and water.'), (0.013496428616629036, 'In 2016, the U.S. generated more plastic trash than any other country�46.3 million tons of it, according to a 2020 study published in Science Advances.'), (0.013485822493206259, 'On Wednesday, Politico reported that a secret CIA base outside Kabul was used to help evacuate U.S. citizens and vulnerable Afghans as the threat of violence outside the airport increased.'), (0.013466243367710717, 'One of them, dubbed the �Pineapple Express� and run by U.S. military veterans, former intelligence officers, and others with connections in Afghanistan, reportedly helped save more than 600 Afghans.'), (0.013465460685060555, 'Plastic products are often made of mixtures of many chemicals, which can stymie recycling processes by making it harder to isolate a base material that can be recovered and reused.'), (0.01345807980104753, 'On Wednesday, a State Department official told reporters that the �majority� of Afghans who applied for special immigrant visas, or SIVs�entry permits for those who assisted the United States in the war�remained behind in Afghanistan.'), (0.013440397668071695, 'The operations took place across the country, the source said�not just around the Afghan capital of Kabul, where many thousands of people desperate to flee the country crowded the airport perimeter.'), (0.013431241012303318, 'On the bright side, most discarded plastic bottles are collected and recycled in states that require people to pay a bottle deposit.'), (0.013397124825574352, '(According to a May 2021 nationally representative survey of 2,079 U.S. adults by CR (PDF), 65 percent of Americans say they typically separate plastics for recycling.)'), (0.013376791891626903, 'The agency successfully rescued six U.S. consular officials who had been hiding in the homes of Canadian diplomats by devising an elaborate cover story.'), (0.013357723973252454, 'The agency had made evacuating its allies a �huge priority,� a U.S. official told Foreign Policy at the time.'), (0.013314247415701507, 'By the time these disposable products are in your hands, they�ve already taken a toll on the planet: Plastics are mostly made from fossil fuels, in an energy-intensive process that emits greenhouse gases and creates often hazardous chemicals.'), (0.01328853087097143, '�My understanding is they got all of their people out,� said the source, who also requested anonymity to discuss sensitive matters.'), (0.013224301572121016, 'U.S. forces have since destroyed parts of the highly secured compound, known as Eagle Base, which also included an area where the CIA once tortured terrorism suspects in the aftermath of the 9/11 attacks.'), (0.01318757400483381, 'It�s thousands of people,� including family members of the spies, a Congressional official told Foreign Policy, requesting anonymity to discuss sensitive matters.'), (0.013183030277633047, 'More than 100,000 people were evacuated from the country over the course of just weeks.'), (0.013140933610133066, '�Moving people in and out of hostile places is something they certainly have experience [in] and excel at doing,� said Andy Keiser, who served as a senior advisor to then-House Intelligence Committee Chair Mike Rogers from 2013 to 2015 and is now a principal at the lobbying firm Navigators Global.'), (0.013138603111368604, 'Some Afghans who worked with the CIA may have escaped through unofficial rescue operations as well.'), (0.013132035856616202, '�Recycling is sold as a means of not worrying about the problem,� says Judith Enck, a former regional administrator at the EPA, now a visiting professor at Bennington College in Vermont and president of Beyond Plastics, a group focused on ending plastics pollution.'), (0.013127246427465733, 'Many fear for their lives, as the Taliban has targeted and killed those it believes helped the United States.'), (0.01292702920556179, 'In theory, sorting plastics and depositing only readily recyclable types into the recycling bin would help fix this problem.'), (0.012900643209147229, 'Another team within the CIA, the National Resettlement Operations Center, is tasked with relocating agency assets and defectors to the United States.'), (0.012712815934722437, 'But it�s unclear if the group, known for resettling high-profile defectors from countries such as Russia, was involved with resettling the former Afghan spies.'), (0.012625025993305597, 'President Joe Biden has faced criticism for his handling of the withdrawal, which devolved into chaos after the Taliban quickly took control of Kabul last month.'), (0.012598937065806557, 'A relatively small amount was littered.'), (0.012566444976492069, 'These include PET plastic bottles, like the ones soda and water are sold in, and HDPE milk jugs (respectively labeled with a number 1 or 2 inside the recycling triangle).'), (0.012543702883537467, 'The Truth About Plastic Recycling\\nDedicated bins for plastic waste are a common sight, and plastic recycling is widely promoted.'), (0.01249732352946585, 'But these guidelines are rarely followed, according to a 2020 report from Greenpeace.'), (0.012432488815931292, 'Many municipalities have switched to single-stream recycling, in which aluminum cans, glass bottles, plastic jugs, and paper and cardboard all get dumped into the same bin.'), (0.01223691521678734, 'So why does only a fraction of the plastic we toss actually get recycled?'), (0.01222578432070781, 'But U.S. recycling trends have worked against this type of careful sorting.'), (0.012185759351155895, 'The truth is that only a fraction of plastic is actually recycled.'), (0.012057135289331158, 'The EPA estimates that in 2018, about 16 percent of U.S. plastic waste was incinerated.'), (0.012039531824741533, 'There�s little to suggest this will happen anytime soon.'), (0.011939281446935842, 'But only 10 states currently have such laws.'), (0.011900923352599804, 'That�s 287 pounds per person in a single year.'), (0.01174725183850873, 'The Americans posed as members of a Canadian film crew�a story memorialized in the Hollywood blockbuster Argo.'), (0.011689907023638695, 'There�s the lid to your coffee cup, and perhaps a bag from a newspaper.'), (0.01156818254373838, 'They also accumulate in our bodies, potentially increasing our risk of chronic inflammation and other ills.'), (0.011266235688273842, 'And then there�s what happens when you throw them away.'), (0.010828836884528693, 'But just 29 percent of the plastic used in these jugs and bottles was recycled in 2018.'), (0.010292372340234108, 'Other extractions have been less celebrated.'), (0.010024818101891556, 'This can lead to recyclable plastic ending up in landfills and incinerators.'), (0.009833984526617922, 'There�s the wrapper from a granola bar, a yogurt container, a salad clamshell, and the plentiful packaging from inside a box that arrived in the mail.'), (0.009146265278407778, '(The FTC did not respond to a request for comment.)'), (0.007328308612878157, 'If it�s not recycled�and it�s usually not�it is landfilled, incinerated, or littered.')]\n"
     ]
    }
   ],
   "source": [
    "print(ranked_sentences)"
   ]
  },
  {
   "cell_type": "code",
   "execution_count": null,
   "id": "17020155",
   "metadata": {},
   "outputs": [],
   "source": []
  }
 ],
 "metadata": {
  "kernelspec": {
   "display_name": "Python 3",
   "language": "python",
   "name": "python3"
  },
  "language_info": {
   "codemirror_mode": {
    "name": "ipython",
    "version": 3
   },
   "file_extension": ".py",
   "mimetype": "text/x-python",
   "name": "python",
   "nbconvert_exporter": "python",
   "pygments_lexer": "ipython3",
   "version": "3.8.8"
  }
 },
 "nbformat": 4,
 "nbformat_minor": 5
}
